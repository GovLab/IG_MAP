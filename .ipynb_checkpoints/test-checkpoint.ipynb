{
 "metadata": {
  "name": "",
  "signature": "sha256:c77522a4032c926803a96082f48451758fd3fcc198e565101cb0701924951f1f"
 },
 "nbformat": 3,
 "nbformat_minor": 0,
 "worksheets": [
  {
   "cells": [
    {
     "cell_type": "code",
     "collapsed": false,
     "input": [
      "import csv\n",
      "import json\n",
      "import re\n",
      "from py2neo import neo4j\n",
      "from py2neo import node, rel, cypher, ogm\n",
      "from py2neo.packages.urimagic import URI\n",
      "import os.path\n",
      "from models import *\n",
      "import sys\n",
      "graphenedb_url = os.environ.get(\"GRAPHENEDB_URL\", \"http://localhost:7474/\")\n",
      "service_root = neo4j.ServiceRoot(URI(graphenedb_url).resolve(\"/\"))\n",
      "#graph_db = service_root.graph_db\n",
      "#graph_db = neo4j.GraphDatabaseService()\n",
      "#session = cypher.Session()\n",
      "\n",
      "#------LOCAL DB\n",
      "graph_db = neo4j.GraphDatabaseService()"
     ],
     "language": "python",
     "metadata": {},
     "outputs": [],
     "prompt_number": 187
    },
    {
     "cell_type": "code",
     "collapsed": false,
     "input": [
      "graph_db.clear()"
     ],
     "language": "python",
     "metadata": {},
     "outputs": [],
     "prompt_number": 143
    },
    {
     "cell_type": "code",
     "collapsed": false,
     "input": [
      "field_names = []\n",
      "def generate_indeces():\n",
      "    with open(\"static/files/nodes.csv\", mode=\"r\") as infile:\n",
      "        reader = csv.reader(infile)\n",
      "        types = []\n",
      "        for row in reader:\n",
      "            if row[1] != \"name\":\n",
      "                types.append(row[2])\n",
      "            else:\n",
      "                field_names = row\n",
      "        types = list(set(types))\n",
      "        for type_ in types:\n",
      "            graph_db.get_or_create_index(neo4j.Node, type_)\n",
      "        return field_names"
     ],
     "language": "python",
     "metadata": {},
     "outputs": [],
     "prompt_number": 144
    },
    {
     "cell_type": "code",
     "collapsed": false,
     "input": [
      "field_names = generate_indeces()"
     ],
     "language": "python",
     "metadata": {},
     "outputs": [],
     "prompt_number": 145
    },
    {
     "cell_type": "code",
     "collapsed": false,
     "input": [
      "def load_nodes():\n",
      "    batch = neo4j.WriteBatch(graph_db)\n",
      "    num_nodes = 0\n",
      "    with open(\"static/files/nodes.csv\", mode=\"r\") as infile:\n",
      "        reader = csv.reader(infile)\n",
      "        for row in reader:\n",
      "            new = {}\n",
      "            if row[1] !=\"name\":\n",
      "                for i in range(0, len(row)):\n",
      "                    new[field_names[i]] = row[i].decode('utf-8').strip()\n",
      "                new_node = batch.create(node(new))\n",
      "                index = graph_db.get_index(neo4j.Node, new['type'])\n",
      "                batch.add_indexed_node(index, \"name\", new['name'].strip(), new_node)\n",
      "                batch.add_labels(new_node, new['type'])\n",
      "                num_nodes +=1\n",
      "    print num_nodes\n",
      "    batch.submit()"
     ],
     "language": "python",
     "metadata": {},
     "outputs": [],
     "prompt_number": 146
    },
    {
     "cell_type": "code",
     "collapsed": false,
     "input": [
      "load_nodes()"
     ],
     "language": "python",
     "metadata": {},
     "outputs": [
      {
       "output_type": "stream",
       "stream": "stdout",
       "text": [
        "479\n"
       ]
      }
     ],
     "prompt_number": 147
    },
    {
     "cell_type": "code",
     "collapsed": false,
     "input": [
      "def generate_relationships_indeces_from_file(filename):\n",
      "        batch = neo4j.WriteBatch(graph_db)\n",
      "        with open(filename, mode=\"r\") as infile:\n",
      "            reader = csv.reader(infile)\n",
      "            relationship_types = []\n",
      "            for row in reader:\n",
      "                relationship_types.append(row[1])\n",
      "            relationship_types = list(set(relationship_types))\n",
      "        for r in relationship_types:\n",
      "            graph_db.get_or_create_index(neo4j.Relationship, r)\n",
      "        return relationship_types"
     ],
     "language": "python",
     "metadata": {},
     "outputs": [],
     "prompt_number": 148
    },
    {
     "cell_type": "code",
     "collapsed": false,
     "input": [
      "def get_node_by_name(name):\n",
      "    query_string = 'START n=node(*) MATCH n WHERE n.name=\"{0}\" RETURN n'.format(name)\n",
      "    results = neo4j.CypherQuery(graph_db, query_string).execute()\n",
      "    return results[0][0]"
     ],
     "language": "python",
     "metadata": {},
     "outputs": [],
     "prompt_number": 149
    },
    {
     "cell_type": "code",
     "collapsed": false,
     "input": [
      "node_dict = {}\n",
      "with open(\"static/files/nodes.csv\", mode=\"r\") as infile:\n",
      "    reader = csv.reader(infile)\n",
      "    for row in reader:\n",
      "        node_dict[row[1]] = row[2]"
     ],
     "language": "python",
     "metadata": {},
     "outputs": [],
     "prompt_number": 150
    },
    {
     "cell_type": "code",
     "collapsed": false,
     "input": [
      "def load_relationships_from_file(filename):\n",
      "    relationship_types = generate_relationships_indeces_from_file(filename)\n",
      "    batch = neo4j.WriteBatch(graph_db)\n",
      "    num_relationships = 0\n",
      "    error_relationships = []\n",
      "    with open(filename, mode=\"r\") as infile:\n",
      "        reader = csv.reader(infile)\n",
      "        for row in reader:\n",
      "            if row[1] != \"relationship\":\n",
      "                try:\n",
      "                    #index_1 = graph_db.get_index(neo4j.Node, node_dict[row[0]])\n",
      "                    #index_2 = graph_db.get_index(neo4j.Node, node_dict[row[2]])\n",
      "                    node_1 = graph_db.get_indexed_node(node_dict[row[0]], \"name\", row[0].decode('utf-8').strip())\n",
      "                    node_2 = graph_db.get_indexed_node(node_dict[row[2]], \"name\", row[2].decode('utf-8').strip())\n",
      "                    batch.create(rel(node_1, row[1], node_2))\n",
      "                    num_relationships +=1\n",
      "                except Exception, e:\n",
      "                    error_relationships.append({\"node1\":row[0].decode('utf-8').strip(), \"rel\":row[1], \"node2\":row[2].decode('utf-8').strip(), \"error\":str(e)})\n",
      "    results = batch.submit()\n",
      "    return error_relationships"
     ],
     "language": "python",
     "metadata": {},
     "outputs": [],
     "prompt_number": 151
    },
    {
     "cell_type": "code",
     "collapsed": false,
     "input": [
      "index = node_dict['Martin von L\u00f6wis']\n",
      "node_1 = graph_db.get_indexed_node(index, \"name\", 'Martin von L\u00f6wis'.decode('utf-8'))\n",
      "node_1"
     ],
     "language": "python",
     "metadata": {},
     "outputs": [
      {
       "metadata": {},
       "output_type": "pyout",
       "prompt_number": 152,
       "text": [
        "Node('http://localhost:7474/db/data/node/7080')"
       ]
      }
     ],
     "prompt_number": 152
    },
    {
     "cell_type": "code",
     "collapsed": false,
     "input": [
      "missing = load_relationships_from_file(\"static/files/relationships.csv\")"
     ],
     "language": "python",
     "metadata": {},
     "outputs": [],
     "prompt_number": 153
    },
    {
     "cell_type": "code",
     "collapsed": false,
     "input": [
      "tic = timeit.default_timer()\n",
      "query_string = \"\"\"MATCH (n)-[r:ADDRESSES]->(m) \n",
      "                WHERE n.type=\\\"Tools & Resources\\\" AND m.name=\\\"IPv6 Adoption\\\" \n",
      "                RETURN n.node_id, n.name, n.type, n.description, m.node_id, m.name, m.type, m.description\"\"\"\n",
      "query_all = \"\"\"MATCH (n)-[r]-(m) \n",
      "                RETURN n.node_id, n.name, n.type, n.description, m.node_id, m.name, m.type, m.description\"\"\"\n",
      "query = neo4j.CypherQuery(graph_db, query_all)\n",
      "results = query.execute().data\n",
      "toc = timeit.default_timer()\n",
      "query_time = toc - tic"
     ],
     "language": "python",
     "metadata": {},
     "outputs": [],
     "prompt_number": 184
    },
    {
     "cell_type": "code",
     "collapsed": false,
     "input": [
      "results[0]"
     ],
     "language": "python",
     "metadata": {},
     "outputs": [
      {
       "metadata": {},
       "output_type": "pyout",
       "prompt_number": 185,
       "text": [
        "Record(columns=(u'n.node_id', u'n.name', u'n.type', u'n.description', u'm.node_id', u'm.name', u'm.type', u'm.description'), values=(u'460', u'Zone Key Tool', u'Tools & Resources', u'Software designed to ease the maintenance of DNSSEC aware zones.\\nZKT is a tool to manage keys and signatures for DNSSEC-zones.\\u201d', u'1', u'DNS Security', u'Issue', u'The Domain Name System (DNS) is a hierarchical distributed naming system for computers, services, or any resource connected to the Internet or a private network. It associates various information with domain names assigned to each of the participating entities. Most prominently, it translates easily memorized domain names to the numerical IP addresses needed for the purpose of locating computer services and devices worldwide. The Domain Name System is an essential component of the functionality of the Internet.'))"
       ]
      }
     ],
     "prompt_number": 185
    },
    {
     "cell_type": "code",
     "collapsed": false,
     "input": [
      "tic = timeit.default_timer()\n",
      "nodes_unsorted = []\n",
      "links = []\n",
      "for r in results:\n",
      "    nodes_unsorted.append({\n",
      "                \"node\":int(r.values[0]),\n",
      "                \"name\":str(r.values[1].encode('ascii', \"ignore\")).strip(),\n",
      "                \"group\":str(r.values[2].encode('ascii', \"ignore\")).strip(),\n",
      "                \"description\":str(r.values[3].encode('ascii', \"ignore\")).strip()})\n",
      "    nodes_unsorted.append({\n",
      "                \"node\":int(r.values[4]),\n",
      "                \"name\":str(r.values[5].encode('ascii', \"ignore\")).strip(),\n",
      "                \"group\":str(r.values[6].encode('ascii', \"ignore\")).strip(),\n",
      "                \"description\":str(r.values[7].encode('ascii', \"ignore\")).strip()})\n",
      "    links.append({\"source\":int(r.values[0]), \"target\":int(r.values[4])})\n",
      "nodes = [dict(t) for t in set([tuple(d.items()) for d in nodes_unsorted])]\n",
      "print len(nodes)\n",
      "toc = timeit.default_timer()\n",
      "node_sort_time = toc - tic"
     ],
     "language": "python",
     "metadata": {},
     "outputs": [
      {
       "output_type": "stream",
       "stream": "stdout",
       "text": [
        "475\n"
       ]
      }
     ],
     "prompt_number": 186
    },
    {
     "cell_type": "code",
     "collapsed": false,
     "input": [
      "links"
     ],
     "language": "python",
     "metadata": {},
     "outputs": [
      {
       "metadata": {},
       "output_type": "pyout",
       "prompt_number": 173,
       "text": [
        "[{'source': 177, 'target': 2},\n",
        " {'source': 248, 'target': 2},\n",
        " {'source': 249, 'target': 2},\n",
        " {'source': 250, 'target': 2},\n",
        " {'source': 377, 'target': 2},\n",
        " {'source': 411, 'target': 2},\n",
        " {'source': 453, 'target': 2}]"
       ]
      }
     ],
     "prompt_number": 173
    },
    {
     "cell_type": "code",
     "collapsed": false,
     "input": [
      "tic = timeit.default_timer()\n",
      "links = []\n",
      "for r in results:\n",
      "    links.append({\"source\":int(r.values[0].start_node['node_id']), \"target\":int(r.values[0].end_node['node_id'])})\n",
      "toc = timeit.default_timer()\n",
      "link_sort_time = toc - tic"
     ],
     "language": "python",
     "metadata": {},
     "outputs": [
      {
       "ename": "AttributeError",
       "evalue": "'NoneType' object has no attribute 'start_node'",
       "output_type": "pyerr",
       "traceback": [
        "\u001b[0;31m---------------------------------------------------------------------------\u001b[0m\n\u001b[0;31mAttributeError\u001b[0m                            Traceback (most recent call last)",
        "\u001b[0;32m<ipython-input-146-13b7d93002a0>\u001b[0m in \u001b[0;36m<module>\u001b[0;34m()\u001b[0m\n\u001b[1;32m      2\u001b[0m \u001b[0mlinks\u001b[0m \u001b[0;34m=\u001b[0m \u001b[0;34m[\u001b[0m\u001b[0;34m]\u001b[0m\u001b[0;34m\u001b[0m\u001b[0m\n\u001b[1;32m      3\u001b[0m \u001b[0;32mfor\u001b[0m \u001b[0mr\u001b[0m \u001b[0;32min\u001b[0m \u001b[0mresults\u001b[0m\u001b[0;34m:\u001b[0m\u001b[0;34m\u001b[0m\u001b[0m\n\u001b[0;32m----> 4\u001b[0;31m     \u001b[0mlinks\u001b[0m\u001b[0;34m.\u001b[0m\u001b[0mappend\u001b[0m\u001b[0;34m(\u001b[0m\u001b[0;34m{\u001b[0m\u001b[0;34m\"source\"\u001b[0m\u001b[0;34m:\u001b[0m\u001b[0mint\u001b[0m\u001b[0;34m(\u001b[0m\u001b[0mr\u001b[0m\u001b[0;34m.\u001b[0m\u001b[0mvalues\u001b[0m\u001b[0;34m[\u001b[0m\u001b[0;36m0\u001b[0m\u001b[0;34m]\u001b[0m\u001b[0;34m.\u001b[0m\u001b[0mstart_node\u001b[0m\u001b[0;34m[\u001b[0m\u001b[0;34m'node_id'\u001b[0m\u001b[0;34m]\u001b[0m\u001b[0;34m)\u001b[0m\u001b[0;34m,\u001b[0m \u001b[0;34m\"target\"\u001b[0m\u001b[0;34m:\u001b[0m\u001b[0mint\u001b[0m\u001b[0;34m(\u001b[0m\u001b[0mr\u001b[0m\u001b[0;34m.\u001b[0m\u001b[0mvalues\u001b[0m\u001b[0;34m[\u001b[0m\u001b[0;36m0\u001b[0m\u001b[0;34m]\u001b[0m\u001b[0;34m.\u001b[0m\u001b[0mend_node\u001b[0m\u001b[0;34m[\u001b[0m\u001b[0;34m'node_id'\u001b[0m\u001b[0;34m]\u001b[0m\u001b[0;34m)\u001b[0m\u001b[0;34m}\u001b[0m\u001b[0;34m)\u001b[0m\u001b[0;34m\u001b[0m\u001b[0m\n\u001b[0m\u001b[1;32m      5\u001b[0m \u001b[0mtoc\u001b[0m \u001b[0;34m=\u001b[0m \u001b[0mtimeit\u001b[0m\u001b[0;34m.\u001b[0m\u001b[0mdefault_timer\u001b[0m\u001b[0;34m(\u001b[0m\u001b[0;34m)\u001b[0m\u001b[0;34m\u001b[0m\u001b[0m\n\u001b[1;32m      6\u001b[0m \u001b[0mlink_sort_time\u001b[0m \u001b[0;34m=\u001b[0m \u001b[0mtoc\u001b[0m \u001b[0;34m-\u001b[0m \u001b[0mtic\u001b[0m\u001b[0;34m\u001b[0m\u001b[0m\n",
        "\u001b[0;31mAttributeError\u001b[0m: 'NoneType' object has no attribute 'start_node'"
       ]
      }
     ],
     "prompt_number": 146
    },
    {
     "cell_type": "code",
     "collapsed": false,
     "input": [
      "print len(nodes)\n",
      "print \"Query time: \" + str(query_time)\n",
      "print \"Node sort time: \" + str(node_sort_time)\n",
      "print \"Link sort time: \" + str(link_sort_time)"
     ],
     "language": "python",
     "metadata": {},
     "outputs": []
    },
    {
     "cell_type": "code",
     "collapsed": false,
     "input": [
      "nodes"
     ],
     "language": "python",
     "metadata": {},
     "outputs": [
      {
       "metadata": {},
       "output_type": "pyout",
       "prompt_number": 133,
       "text": [
        "[{'description': 'The measurement activities track different aspects of IPv6 deployment on the global Internet. The different measurements show various dimensions of the answer to the question of how broadly IPv6 is being used on the global Internet. The tables, charts, and links provide answers to questions such as: which websites have enabled IPv6, how many visitors to a specific website are using IPv6, how many networks have significant IPv6 deployment, and how much traffic at an Internet exchange is using IPv6?',\n",
        "  'group': 'Tools & Resources',\n",
        "  'name': 'World IPv6 Launch Measurements',\n",
        "  'node': 453},\n",
        " {'description': 'The Ghost Route Hunter tool will aid in the hunting down of the infamous Ghost Routes that bug everyday IPv6 routing tables, blackholing innocent DFP holders. It also generates various other reports on IPv6 Routing Table usage, documenting all the prefixes that should be in the Internet and where they are missing and a lot of other useful tools are available for helping debugging of all kinds of various IPv6 related problems. The routes are gathered using AS8298.',\n",
        "  'group': 'Tools & Resources',\n",
        "  'name': 'Ghost Route Hunter',\n",
        "  'node': 177},\n",
        " {'description': 'This portal gives IPv6 capable http-clients access to IPv4-only websites and IPv4 capable http-clients access to IPv6-only websites. It thus acts as a Web Proxy between IPv4-IPv6 and IPv6-IPv4.',\n",
        "  'group': 'Tools & Resources',\n",
        "  'name': 'IPv6 to IPv4 Website Gateway',\n",
        "  'node': 250},\n",
        " {'description': 'RIPE Labs is a platform designed by the RIPE NCC for network operators, developers and industry experts to expose, test and discuss innovative Internet-related tools, ideas and analysis that can benefit the RIPE community and RIPE NCC members. RIPE Labs contains data repositories, statistics, and the RIPE Atlas measurements network.',\n",
        "  'group': 'Tools & Resources',\n",
        "  'name': 'RIPE Labs',\n",
        "  'node': 377},\n",
        " {'description': 'Google collects statistics about IPv6 adoption in the Internet on an ongoing basis. We hope that publishing this information will help Internet providers, website owners, and policy makers as the industry rolls out IPv6.',\n",
        "  'group': 'Tools & Resources',\n",
        "  'name': 'IPv6 Statistics - Google',\n",
        "  'node': 249},\n",
        " {'description': 'Internet Protocol version 6 (IPv6) is the latest version of the Internet Protocol (IP), the communications protocol that provides an identification and location system for computers on networks and routes traffic across the Internet. IPv6 was developed by the Internet Engineering Task Force (IETF) to deal with the long-anticipated problem of IPv4 address exhaustion.',\n",
        "  'group': 'Issue',\n",
        "  'name': 'IPv6 Adoption',\n",
        "  'node': 2},\n",
        " {'description': 'IPv6 Intelligence is an information source for implementations of the Internet Protocol Version 6 (IPv6). This site focuses on Operating systems for host computers with integrated IPv6 stacks (i.e. a complete operating environment as provided by the vendor), and Software packages and tools which implement subprotocols of IPv6 (stand-alone products which provide IPv6 functions not available in the integrated stacks).',\n",
        "  'group': 'Tools & Resources',\n",
        "  'name': 'IPv6 Intelligence',\n",
        "  'node': 248},\n",
        " {'description': 'The IPv6 Analyser is a toolset that offers our members a visual insight into all the allocations, aggregations and assignments they have made.',\n",
        "  'group': 'Tools & Resources',\n",
        "  'name': 'The IPv6 Analyser',\n",
        "  'node': 411}]"
       ]
      }
     ],
     "prompt_number": 133
    },
    {
     "cell_type": "code",
     "collapsed": false,
     "input": [
      "issue_list = [{\n",
      "            \"issue\":\"DNS Security\",\n",
      "            \"synonyms\":[\"dns\",\"dns security\", \"dnssec\"]\n",
      "        }, \n",
      "        {\n",
      "            \"issue\":\"IPv6 Adoption\", \n",
      "            \"synonyms\":[\"ipv6\",\"ipv6 adoption\", \"ip\", \"ip v6\"]\n",
      "        }, {\n",
      "            \"issue\":\"Broadband Promotion\", \n",
      "            \"synonyms\":[\"broadband\",\"broadband promotion\"]\n",
      "        }, {\n",
      "            \"issue\":\"Child Pornography\", \n",
      "            \"synonyms\":[\"cp\",\"child pornography\", \"child porn\"]\n",
      "        }, {\n",
      "            \"issue\":\"Internet Gambling\",\n",
      "            \"synonyms\":[\"internet gambling\",\"gambling\"]\n",
      "        }]\n",
      "relationships = [\n",
      "                \"address\", \"addresses\", \"deals\", \"deal\", \"attends\", \n",
      "                \"attend\" \"focuses\", \"focus\" \"undertakes\", \"research\", \n",
      "                \"tackles\", \"tackle\", \"concerning\" \"sees\", \"about\", \"on\", \"study\"]\n",
      "type_list = [{\n",
      "            \"synonyms\": [\n",
      "                \"initiatives\", \"events\", \"conferences\", \"parties\", \"proposal\", \n",
      "                \"plans\", \"schemes\", \"strategies\"],\n",
      "            \"type\":\"Initiatives & Events\"\n",
      "        },\n",
      "        {\n",
      "            \"synonyms\": [\n",
      "                \"laws\", \"policies\", \"rules\", \"bylaws\", \"bills\", \"decrees\", \n",
      "                \"resolutions\", \"orders\", \"procedures\"],\n",
      "            \"type\":\"Laws & Policies\"\n",
      "        },\n",
      "        {\n",
      "            \"synonyms\": [\n",
      "                \"who\", \"organizations\", \"groups\", \"firm\", \"corporation\", \n",
      "                \"association\", \"society\", \"institutions\", \"people\", \n",
      "                \"leaders\", \"individuals\", \"humans\"],\n",
      "            \"type\":\"Actor\"\n",
      "        }, \n",
      "        {\n",
      "            \"synonyms\": [\n",
      "                \"research\", \"investigations\", \"studies\", \"study\", \n",
      "                \"findings\", \"experiments\", \"analysis\", \"support\", \"backing\"],\n",
      "            \"type\":\"Research & Advocacy\"\n",
      "        },\n",
      "        {\n",
      "            \"synonyms\": [\n",
      "                \"standards\", \"protocols\", \"norms\", \"guidelines\", \n",
      "                \"criteria\", \"norms\"],\n",
      "            \"type\":\"Standards\"\n",
      "        },\n",
      "        {\n",
      "            \"synonyms\": [\n",
      "                \"tools\", \"information\", \"applications\", \"apps\", \n",
      "                \"instruments\", \"materials\"],\n",
      "            \"type\":\"Tools & Resources\"\n",
      "        }\n",
      "        ]\n",
      "TYPES = [\n",
      "    \"Actor\", \"Person\", \"Initiatives and Events\", \"Issue\", \"Laws and Policies\", \n",
      "    \"Research and Advocacy\", \"Standards\", \"Tools and Resources\"]\n",
      "field_names = [\n",
      "    \"node_id\", \"name\", \"type\", \"description\", \"abbrev\", \"url\", \"contact_info\", \n",
      "    \"year_founded\", \"date_start\", \"date_end\", \"sphere\", \"recurs\", \"region\", \n",
      "    \"country\", \"state\", \"city\"]"
     ],
     "language": "python",
     "metadata": {},
     "outputs": [],
     "prompt_number": 1
    },
    {
     "cell_type": "code",
     "collapsed": false,
     "input": [
      "query = \"who deals with dns security\""
     ],
     "language": "python",
     "metadata": {},
     "outputs": [],
     "prompt_number": 2
    },
    {
     "cell_type": "code",
     "collapsed": false,
     "input": [
      "q = query.split()\n",
      "print q\n",
      "print relationships\n",
      "rel = [s for s in relationships if s in q]\n",
      "rel\n",
      "#rel_word = q.index(rel[0])"
     ],
     "language": "python",
     "metadata": {},
     "outputs": [
      {
       "output_type": "stream",
       "stream": "stdout",
       "text": [
        "['who', 'deals', 'with', 'dns', 'security']\n",
        "['address', 'addressesdeals', 'deal', 'attends', 'attendfocuses', 'focusundertakes', 'research', 'tackles', 'tackle', 'concerningsees', 'about', 'on', 'study']\n"
       ]
      },
      {
       "metadata": {},
       "output_type": "pyout",
       "prompt_number": 8,
       "text": [
        "[]"
       ]
      }
     ],
     "prompt_number": 8
    },
    {
     "cell_type": "code",
     "collapsed": false,
     "input": [
      "'who' in q"
     ],
     "language": "python",
     "metadata": {},
     "outputs": [
      {
       "metadata": {},
       "output_type": "pyout",
       "prompt_number": 6,
       "text": [
        "True"
       ]
      }
     ],
     "prompt_number": 6
    },
    {
     "cell_type": "code",
     "collapsed": false,
     "input": [],
     "language": "python",
     "metadata": {},
     "outputs": []
    }
   ],
   "metadata": {}
  }
 ]
}