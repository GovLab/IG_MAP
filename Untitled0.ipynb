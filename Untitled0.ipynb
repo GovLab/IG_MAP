{
 "metadata": {
  "name": "",
  "signature": "sha256:cee250b92c87491036f2ab7d1d0120db3f5640aa83cfb2a2ad07955d5b3b8f61"
 },
 "nbformat": 3,
 "nbformat_minor": 0,
 "worksheets": [
  {
   "cells": [
    {
     "cell_type": "code",
     "collapsed": false,
     "input": [
      "from py2neo import neo4j\n",
      "from py2neo import node, rel, cypher\n",
      "from py2neo.packages.urimagic import URI\n",
      "graph_db = neo4j.GraphDatabaseService()\n",
      "session = cypher.Session()"
     ],
     "language": "python",
     "metadata": {},
     "outputs": [],
     "prompt_number": 1
    },
    {
     "cell_type": "code",
     "collapsed": false,
     "input": [
      "tx = session.create_transaction()\n",
      "tx.append(\"MATCH (n)-[r:ADDRESSES]->(m) WHERE m.name=\\\"Child Pornography\\\" RETURN r\")\n",
      "results = tx.execute()"
     ],
     "language": "python",
     "metadata": {},
     "outputs": [],
     "prompt_number": 51
    },
    {
     "cell_type": "code",
     "collapsed": false,
     "input": [
      "nodes = []\n",
      "links = []"
     ],
     "language": "python",
     "metadata": {},
     "outputs": [],
     "prompt_number": 52
    },
    {
     "cell_type": "code",
     "collapsed": false,
     "input": [
      "for r in results[0]:\n",
      "    nodes.append({\"name\":r.values[0].start_node['name'].encode('utf-8'), \"group\":r.values[0].start_node['type'].encode('utf-8'), \"node\":r.values[0].start_node['node_id']})\n",
      "    nodes.append({\"name\":r.values[0].end_node['name'].encode('utf-8'), \"group\":r.values[0].end_node['type'].encode('utf-8'), \"node\":r.values[0].end_node['node_id']}) \n",
      "    nodes = [dict(t) for t in set([tuple(d.items()) for d in nodes])]\n",
      "    links.append({\"source\":r.values[0].start_node['node_id'], \"target\":r.values[0].end_node['node_id']})"
     ],
     "language": "python",
     "metadata": {},
     "outputs": [],
     "prompt_number": 53
    },
    {
     "cell_type": "code",
     "collapsed": false,
     "input": [
      "nodes"
     ],
     "language": "python",
     "metadata": {},
     "outputs": [
      {
       "metadata": {},
       "output_type": "pyout",
       "prompt_number": 54,
       "text": [
        "[{'group': 'Laws & Policies',\n",
        "  'name': 'AG-2011-RES-08 - Promoting victim-centric management of child abuse material at the national level',\n",
        "  'node': 184},\n",
        " {'group': 'Laws & Policies',\n",
        "  'name': 'The Protection of Children Online: Report on risks faced by children online and policies to protect them',\n",
        "  'node': 181},\n",
        " {'group': 'Laws & Policies',\n",
        "  'name': 'Hague Convention on the Civil Aspects of International Child Abduction',\n",
        "  'node': 188},\n",
        " {'group': 'Initiatives & Events',\n",
        "  'name': 'European Cybercrime Centre at Europol',\n",
        "  'node': 170},\n",
        " {'group': 'Actor',\n",
        "  'name': 'The Organisation for Economic Co-operation and Development',\n",
        "  'node': 108},\n",
        " {'group': 'Actor', 'name': 'Yaman Akdeniz', 'node': 116},\n",
        " {'group': 'Research & Advocacy',\n",
        "  'name': 'GSMA-INHOPE Guide to Establishing an Internet Hotline',\n",
        "  'node': 208},\n",
        " {'group': 'Laws & Policies',\n",
        "  'name': 'AG-2009-RES-05 - Combating sexual exploitation of children on the Internet using all available technical solutions, including access-blocking by INTERPOL member countries',\n",
        "  'node': 186},\n",
        " {'group': 'Actor',\n",
        "  'name': 'United States Department of Homeland Security Immigrations and Customs Enforcement',\n",
        "  'node': 146},\n",
        " {'group': 'Initiatives & Events',\n",
        "  'name': 'Global Alliance against Child Sexual Abuse Online',\n",
        "  'node': 171},\n",
        " {'group': 'Research & Advocacy',\n",
        "  'name': 'Child Pornography on the Internet',\n",
        "  'node': 200},\n",
        " {'group': 'Initiatives & Events',\n",
        "  'name': 'Innovations in the Fight Against Human Trafficking Perspectives and Proposals',\n",
        "  'node': 224},\n",
        " {'group': 'Actor', 'name': 'Richard Wortley', 'node': 134},\n",
        " {'group': 'Initiatives & Events',\n",
        "  'name': 'CP80 Internet Zoning Initiative',\n",
        "  'node': 157},\n",
        " {'group': 'Actor', 'name': 'David Finkelhor', 'node': 118},\n",
        " {'group': 'Actor', 'name': 'Australian High Tech Crime Centre', 'node': 128},\n",
        " {'group': 'Actor', 'name': 'Christopher R. Reed', 'node': 131},\n",
        " {'group': 'Actor', 'name': 'Miguel Vargas Martin', 'node': 124},\n",
        " {'group': 'Actor',\n",
        "  'name': 'The Eli and Edythe Broad Foundation',\n",
        "  'node': 113},\n",
        " {'group': 'Initiatives & Events',\n",
        "  'name': 'End Child Prostitution, Child Pornography and Trafficking of Children for Sexual Purposes',\n",
        "  'node': 165},\n",
        " {'group': 'Initiatives & Events', 'name': 'Project VIC', 'node': 174},\n",
        " {'group': 'Actor', 'name': 'CP80 Foundation', 'node': 105},\n",
        " {'group': 'Initiatives & Events',\n",
        "  'name': 'The Global Initiative against Transnational Organized Crime',\n",
        "  'node': 168},\n",
        " {'group': 'Actor',\n",
        "  'name': 'International Criminal Police Organization (INTERPOL)',\n",
        "  'node': 144},\n",
        " {'group': 'Laws & Policies',\n",
        "  'name': 'OECD Seoul Declaration for the Future of the Internet Economy',\n",
        "  'node': 177},\n",
        " {'group': 'Research & Advocacy',\n",
        "  'name': 'Wanted: Technology Breakthroughs to Fight Child Sex Trafficking',\n",
        "  'node': 210},\n",
        " {'group': 'Actor', 'name': 'The Woods Chartiable Foundation', 'node': 112},\n",
        " {'group': 'Research & Advocacy',\n",
        "  'name': 'Joint Report on Online Child Protection: Combatting Child Pornography on the Internet',\n",
        "  'node': 211},\n",
        " {'group': 'Research & Advocacy',\n",
        "  'name': 'Child Rights Connect Annual Report 2013',\n",
        "  'node': 209},\n",
        " {'group': 'Actor', 'name': 'The Koons Family Institute', 'node': 111},\n",
        " {'group': 'Actor', 'name': 'InHope Foundation', 'node': 141},\n",
        " {'group': 'Research & Advocacy',\n",
        "  'name': 'Report on the APEC-OECD Joint Symposium on Initiatives Among Member Economies Promoting Safer Internet Environment for Children',\n",
        "  'node': 189},\n",
        " {'group': 'Actor', 'name': 'Thorn Foundation', 'node': 155},\n",
        " {'group': 'Initiatives & Events', 'name': 'InHope', 'node': 166},\n",
        " {'group': 'Initiatives & Events',\n",
        "  'name': '29th Meeting of the INTERPOL Specialist Group on Crimes against Children',\n",
        "  'node': 176},\n",
        " {'group': 'Initiatives & Events',\n",
        "  'name': 'Campaign Against International Child Abduction',\n",
        "  'node': 163},\n",
        " {'group': 'Standards',\n",
        "  'name': 'Platform for Internet Content Selections',\n",
        "  'node': 213},\n",
        " {'group': 'Actor', 'name': 'Jeff Koons', 'node': 151},\n",
        " {'group': 'Laws & Policies',\n",
        "  'name': 'AG-2010-RES-05 - Child Alert Systems to assist safe recovery of abducted children',\n",
        "  'node': 185},\n",
        " {'group': 'Actor', 'name': 'Nominet Trust', 'node': 140},\n",
        " {'group': 'Actor', 'name': 'Max Taylor', 'node': 122},\n",
        " {'group': 'Actor', 'name': 'Sharon Cooper', 'node': 150},\n",
        " {'group': 'Tools & Resources',\n",
        "  'name': 'InHope Illegal Content Reporting',\n",
        "  'node': 223},\n",
        " {'group': 'Initiatives & Events',\n",
        "  'name': 'Microsoft Digital Crimes Unit (DCU)',\n",
        "  'node': 172},\n",
        " {'group': 'Actor', 'name': 'Janis Wolak', 'node': 119},\n",
        " {'group': 'Tools & Resources', 'name': 'Operation Predator', 'node': 219},\n",
        " {'group': 'Initiatives & Events',\n",
        "  'name': 'Seoul Ministerial Meeting on the Future of the Internet Economy',\n",
        "  'node': 160},\n",
        " {'group': 'Actor',\n",
        "  'name': 'International Centre for Missing & Exploited Children',\n",
        "  'node': 110},\n",
        " {'group': 'Actor',\n",
        "  'name': 'United Nations Committee on the Rights of the Child',\n",
        "  'node': 154},\n",
        " {'group': 'Initiatives & Events',\n",
        "  'name': 'European Financial Coalition',\n",
        "  'node': 169},\n",
        " {'group': 'Tools & Resources', 'name': 'PhotoDNA', 'node': 216},\n",
        " {'group': 'Actor', 'name': 'Europol', 'node': 138},\n",
        " {'group': 'Actor', 'name': 'Cortney Lollar', 'node': 137},\n",
        " {'group': 'Research & Advocacy',\n",
        "  'name': 'Child Pornography: An Internet Crime',\n",
        "  'node': 193},\n",
        " {'group': 'Research & Advocacy',\n",
        "  'name': 'Child Pornography On the Internet: New Challenges Require New Ideas',\n",
        "  'node': 201},\n",
        " {'group': 'Research & Advocacy',\n",
        "  'name': 'Beyond Tolerance: Child Pornography on the Internet',\n",
        "  'node': 198},\n",
        " {'group': 'Initiatives & Events',\n",
        "  'name': 'APEC-OECD Joint Symposium on Initiatives among Member Economies Promoting Safer Internet Environment for Children',\n",
        "  'node': 159},\n",
        " {'group': 'Actor', 'name': 'Korea Communications Commission', 'node': 107},\n",
        " {'group': 'Laws & Policies',\n",
        "  'name': 'Recommendations of the Virtual Global Task Force',\n",
        "  'node': 178},\n",
        " {'group': 'Actor',\n",
        "  'name': 'The Organisation for Economic Co-operation and Development',\n",
        "  'node': 318},\n",
        " {'group': 'Research & Advocacy',\n",
        "  'name': 'Internet Child Pornography and the Law: National and International Responses',\n",
        "  'node': 190},\n",
        " {'group': 'Issue', 'name': 'Child Pornography', 'node': 470},\n",
        " {'group': 'Actor', 'name': 'Patrick C.K. Hung', 'node': 125},\n",
        " {'group': 'Initiatives & Events',\n",
        "  'name': 'Financial Coalition Against Child Pornography',\n",
        "  'node': 164},\n",
        " {'group': 'Actor', 'name': 'Cheryl B. Preston', 'node': 129},\n",
        " {'group': 'Actor',\n",
        "  'name': 'Friend Media Technology Systems Ltd',\n",
        "  'node': 148},\n",
        " {'group': 'Actor',\n",
        "  'name': 'National Center for Missing & Exploited Children',\n",
        "  'node': 115},\n",
        " {'group': 'Research & Advocacy',\n",
        "  'name': 'Defining Child Pornography: Law Enforcement Dilemmas in Investigations of Internet Child Pornography Possession',\n",
        "  'node': 192},\n",
        " {'group': 'Research & Advocacy',\n",
        "  'name': 'A Typology of Online Child Pornography Offending ',\n",
        "  'node': 195},\n",
        " {'group': 'Initiatives & Events',\n",
        "  'name': 'Virtual Global Task Force',\n",
        "  'node': 161},\n",
        " {'group': 'Research & Advocacy',\n",
        "  'name': 'Child Pornography and the Restitution Revolution',\n",
        "  'node': 203},\n",
        " {'group': 'Actor', 'name': 'Andrew G. Oosterbaan', 'node': 133},\n",
        " {'group': 'Actor', 'name': 'Dr. Weixiao Wei', 'node': 139},\n",
        " {'group': 'Actor', 'name': 'Stephen Smallbone', 'node': 135},\n",
        " {'group': 'Research & Advocacy',\n",
        "  'name': 'Children and Internet Pornography: The Nature of the Problem and the Technologies for a Solution',\n",
        "  'node': 197},\n",
        " {'group': 'Actor',\n",
        "  'name': 'Australian Institute of Criminology',\n",
        "  'node': 127},\n",
        " {'group': 'Research & Advocacy',\n",
        "  'name': 'Report of the Global Alliance against Child Sexual Abuse Online',\n",
        "  'node': 205},\n",
        " {'group': 'Laws & Policies',\n",
        "  'name': 'Optional Protocol to the Convention on the Rights of the Child on a Communications Procedure',\n",
        "  'node': 180},\n",
        " {'group': 'Research & Advocacy',\n",
        "  'name': 'Cyber child pornography: A review paper of the social and legal issues and remedies\\xe2\\x80\\x94and a proposed technological solution',\n",
        "  'node': 194},\n",
        " {'group': 'Standards',\n",
        "  'name': 'Video Image Classification Standard',\n",
        "  'node': 212},\n",
        " {'group': 'Research & Advocacy',\n",
        "  'name': 'Child abuse material and the Internet: Cyberpsychology of online child related sex offending',\n",
        "  'node': 191},\n",
        " {'group': 'Tools & Resources',\n",
        "  'name': 'Hash Value Sharing Initiative',\n",
        "  'node': 217},\n",
        " {'group': 'Actor', 'name': 'Philip Jenkins', 'node': 132},\n",
        " {'group': 'Actor', 'name': 'Bernadette H. Schella', 'node': 123},\n",
        " {'group': 'Laws & Policies',\n",
        "  'name': 'Optional Protocol on the Sale of Children, Child Prostitution and Child Pornography \\xe2\\x80\\x93 a protocol to the Convention on the Rights of the Child',\n",
        "  'node': 179},\n",
        " {'group': 'Actor', 'name': 'Melissa Wells', 'node': 117},\n",
        " {'group': 'Research & Advocacy',\n",
        "  'name': 'Preliminary analysis into commercial child sexual abuse material distributor accepting Bitcoin payment',\n",
        "  'node': 206},\n",
        " {'group': 'Actor', 'name': 'World Wide Web Consortium', 'node': 145},\n",
        " {'group': 'Actor', 'name': 'Kimberly J. Mitchell', 'node': 120},\n",
        " {'group': 'Actor', 'name': 'Danah Boyd', 'node': 149},\n",
        " {'group': 'Research & Advocacy',\n",
        "  'name': 'Online Child Sexual Abuse Content: The development of a comprehensive, transferable international internet notice and takedown system',\n",
        "  'node': 207},\n",
        " {'group': 'Actor', 'name': 'Julian Fantino', 'node': 136},\n",
        " {'group': 'Actor', 'name': 'Scott R. Rasmussen', 'node': 130},\n",
        " {'group': 'Initiatives & Events',\n",
        "  'name': 'Crimes Against Children Conference',\n",
        "  'node': 158},\n",
        " {'group': 'Research & Advocacy',\n",
        "  'name': 'Chapter 13: Governance of Pornography and Child Pornography on the Global Internet: A Multi-Layered Approach.',\n",
        "  'node': 196},\n",
        " {'group': 'Tools & Resources', 'name': 'URL Initiative', 'node': 215},\n",
        " {'group': 'Actor', 'name': 'Microsoft Corporation', 'node': 114},\n",
        " {'group': 'Actor', 'name': 'Child Rights Connect', 'node': 142},\n",
        " {'group': 'Laws & Policies',\n",
        "  'name': 'AG-2005-RES-09 - Addressing WebSites selling Child Pornography and Trafficking of Children on Internet',\n",
        "  'node': 187},\n",
        " {'group': 'Tools & Resources', 'name': 'CyberTipline', 'node': 221},\n",
        " {'group': 'Actor', 'name': 'Ethel Quayle', 'node': 121},\n",
        " {'group': 'Tools & Resources',\n",
        "  'name': 'International Child Abduction Database',\n",
        "  'node': 220},\n",
        " {'group': 'Research & Advocacy',\n",
        "  'name': 'Report to Law Enforcement Projects Subgroup (LEPSG) on the \\xe2\\x80\\x9cGlobal Symposium for Examining the Relationship Between Online and Offline Offenses and Preventing the Sexual Exploitation of Children\\xe2\\x80\\x9d',\n",
        "  'node': 199},\n",
        " {'group': 'Actor',\n",
        "  'name': 'Children\\xe2\\x80\\x99s Charities\\xe2\\x80\\x99 Coalition on Internet Safety',\n",
        "  'node': 153},\n",
        " {'group': 'Actor',\n",
        "  'name': 'Hague Conference on Private International Law',\n",
        "  'node': 147},\n",
        " {'group': 'Research & Advocacy',\n",
        "  'name': 'Virtual Global Taskforce Environmental Scan 2012',\n",
        "  'node': 202},\n",
        " {'group': 'Actor', 'name': 'United Nations General Assembly', 'node': 143},\n",
        " {'group': 'Initiatives & Events', 'name': 'ForceForge', 'node': 175},\n",
        " {'group': 'Actor', 'name': 'Asia-Pacific Economic Cooperation', 'node': 109},\n",
        " {'group': 'Research & Advocacy',\n",
        "  'name': 'First Year Report, European Cybercrime Center (EC3)',\n",
        "  'node': 204},\n",
        " {'group': 'Actor', 'name': \"Dallas Children's Advocacy Center\", 'node': 106},\n",
        " {'group': 'Tools & Resources',\n",
        "  'name': '\\xe2\\x80\\x9cDon\\xe2\\x80\\x99t You Forget About Me: A YouTube Channel for Missing Children',\n",
        "  'node': 214},\n",
        " {'group': 'Tools & Resources', 'name': 'F1', 'node': 222},\n",
        " {'group': 'Initiatives & Events',\n",
        "  'name': 'International Child Abduction Attorney Network',\n",
        "  'node': 162},\n",
        " {'group': 'Actor',\n",
        "  'name': 'The Koons Family Institute on International Law & Policy',\n",
        "  'node': 152},\n",
        " {'group': 'Actor', 'name': 'Internet Watch Foundation', 'node': 156},\n",
        " {'group': 'Laws & Policies',\n",
        "  'name': 'United Nations Convention on the Rights of the Child',\n",
        "  'node': 182},\n",
        " {'group': 'Actor', 'name': 'Luis Rueda', 'node': 126},\n",
        " {'group': 'Laws & Policies',\n",
        "  'name': 'AG-2011-RES-05 - Combating online sexual exploitation of children through a legislative global engagement strategy',\n",
        "  'node': 183},\n",
        " {'group': 'Tools & Resources',\n",
        "  'name': 'Microsoft Child Exploitation Tracking System',\n",
        "  'node': 218},\n",
        " {'group': 'Initiatives & Events',\n",
        "  'name': 'Technology Task Force (DCU and Microsoft Research)',\n",
        "  'node': 173}]"
       ]
      }
     ],
     "prompt_number": 54
    },
    {
     "cell_type": "code",
     "collapsed": false,
     "input": [
      "len(nodes)"
     ],
     "language": "python",
     "metadata": {},
     "outputs": [
      {
       "metadata": {},
       "output_type": "pyout",
       "prompt_number": 55,
       "text": [
        "121"
       ]
      }
     ],
     "prompt_number": 55
    },
    {
     "cell_type": "code",
     "collapsed": false,
     "input": [
      "a = \"this is a test sentence\"\n",
      "a.split()"
     ],
     "language": "python",
     "metadata": {},
     "outputs": [
      {
       "metadata": {},
       "output_type": "pyout",
       "prompt_number": 63,
       "text": [
        "['this', 'is', 'a', 'test', 'sentence']"
       ]
      }
     ],
     "prompt_number": 63
    },
    {
     "cell_type": "code",
     "collapsed": false,
     "input": [
      "b = [\"a\", \"sdf\", \"sdf\"]\n",
      "b in a"
     ],
     "language": "python",
     "metadata": {},
     "outputs": [
      {
       "ename": "TypeError",
       "evalue": "'in <string>' requires string as left operand, not list",
       "output_type": "pyerr",
       "traceback": [
        "\u001b[0;31m---------------------------------------------------------------------------\u001b[0m\n\u001b[0;31mTypeError\u001b[0m                                 Traceback (most recent call last)",
        "\u001b[0;32m<ipython-input-64-134587cf4400>\u001b[0m in \u001b[0;36m<module>\u001b[0;34m()\u001b[0m\n\u001b[1;32m      1\u001b[0m \u001b[0mb\u001b[0m \u001b[0;34m=\u001b[0m \u001b[0;34m[\u001b[0m\u001b[0;34m\"a\"\u001b[0m\u001b[0;34m,\u001b[0m \u001b[0;34m\"sdf\"\u001b[0m\u001b[0;34m,\u001b[0m \u001b[0;34m\"sdf\"\u001b[0m\u001b[0;34m]\u001b[0m\u001b[0;34m\u001b[0m\u001b[0m\n\u001b[0;32m----> 2\u001b[0;31m \u001b[0mb\u001b[0m \u001b[0;32min\u001b[0m \u001b[0ma\u001b[0m\u001b[0;34m\u001b[0m\u001b[0m\n\u001b[0m",
        "\u001b[0;31mTypeError\u001b[0m: 'in <string>' requires string as left operand, not list"
       ]
      }
     ],
     "prompt_number": 64
    },
    {
     "cell_type": "code",
     "collapsed": false,
     "input": [
      "relationships = [\"address\", \"addresses\" \"deals\", \"deal\", \"attends\", \"attend\" \"focuses\", \"focus\" \"undertakes\", \"tackles\", \"tackle\", \"concerning\" \"sees\", \"about\", \"on\"]\n",
      "type_list = [{\n",
      "            \"synonyms\": [\"initiatives\", \"events\", \"conferences\", \"parties\", \"proposal\", \"plans\", \"schemes\", \"strategies\"],\n",
      "            \"type\":\"Initiatives & Events\"\n",
      "        },\n",
      "        {\n",
      "            \"synonyms\": [\"laws\", \"policies\", \"rules\", \"bylaws\", \"bills\", \"decrees\", \"resolutions\", \"orders\", \"procedures\"],\n",
      "            \"type\":\"Laws & Policies\"\n",
      "        },\n",
      "        {\n",
      "            \"synonyms\": [\"organizations\", \"groups\", \"firm\", \"corporation\", \"association\", \"society\", \"institutions\", \"people\", \"leaders\", \"individuals\", \"humans\"],\n",
      "            \"type\":\"Actor\"\n",
      "        }, \n",
      "        {\n",
      "            \"synonyms\": [\"research\", \"investigations\", \"studies\", \"study\", \"findings\", \"experiments\", \"analysis\", \"support\", \"backing\"],\n",
      "            \"type\":\"Research & Advocacy\"\n",
      "        },\n",
      "        {\n",
      "            \"synonyms\": [\"standards\", \"protocols\", \"norms\", \"guidelines\", \"criteria\", \"norms\"],\n",
      "            \"type\":\"Standards\"\n",
      "        },\n",
      "        {\n",
      "            \"synonyms\": [\"tools\", \"information\", \"applications\", \"apps\", \"instruments\", \"materials\"],\n",
      "            \"type\":\"Tools & Resources\"\n",
      "        }\n",
      "        ]\n",
      "issue_list = [{\n",
      "            \"issue\":\"DNS Security\",\n",
      "            \"synonyms\":[\"dns\",\"dns security\", \"dnssec\"]\n",
      "        }, \n",
      "        {\n",
      "            \"issue\":\"IPv6 Adoption\", \n",
      "            \"synonyms\":[\"ipv6\",\"ipv6 adoption\", \"ip\"]\n",
      "        }, {\n",
      "            \"issue\":\"Broadband Promotion\", \n",
      "            \"synonyms\":[\"broadband\",\"broadband promotion\"]\n",
      "        }, {\n",
      "            \"issue\":\"Child Pornography\", \n",
      "            \"synonyms\":[\"cp\",\"child pornography\", \"child porno\"]\n",
      "        }, {\n",
      "            \"issue\":\"Internet Gambling\",\n",
      "            \"synonyms\":[\"internet gambling\",\"gambling\"]\n",
      "        }]\n",
      "query = \"organizations that deal with ipv6 \"\n",
      "q = query.split()"
     ],
     "language": "python",
     "metadata": {},
     "outputs": [],
     "prompt_number": 107
    },
    {
     "cell_type": "code",
     "collapsed": false,
     "input": [
      "rel = [s for s in relationships if s in q]"
     ],
     "language": "python",
     "metadata": {},
     "outputs": [],
     "prompt_number": 90
    },
    {
     "cell_type": "code",
     "collapsed": false,
     "input": [
      "rel"
     ],
     "language": "python",
     "metadata": {},
     "outputs": [
      {
       "metadata": {},
       "output_type": "pyout",
       "prompt_number": 91,
       "text": [
        "['deal']"
       ]
      }
     ],
     "prompt_number": 91
    },
    {
     "cell_type": "code",
     "collapsed": false,
     "input": [
      "cat = ''\n",
      "rel_word = q.index(rel[0])\n",
      "for typ in type_list:\n",
      "    for word in q[0:rel_word]:\n",
      "        if any(word in s for s in typ['synonyms']):\n",
      "            cat = typ['type']\n",
      "cat"
     ],
     "language": "python",
     "metadata": {},
     "outputs": [
      {
       "metadata": {},
       "output_type": "pyout",
       "prompt_number": 108,
       "text": [
        "'Actor'"
       ]
      }
     ],
     "prompt_number": 108
    },
    {
     "cell_type": "code",
     "collapsed": false,
     "input": [
      "issue =''\n",
      "for iss in issue_list:\n",
      "    for word in q[rel_word+1:]:\n",
      "        if any(word in s for s in iss['synonyms']):\n",
      "            issue = iss['issue']\n",
      "issue"
     ],
     "language": "python",
     "metadata": {},
     "outputs": [
      {
       "metadata": {},
       "output_type": "pyout",
       "prompt_number": 109,
       "text": [
        "'IPv6 Adoption'"
       ]
      }
     ],
     "prompt_number": 109
    },
    {
     "cell_type": "code",
     "collapsed": false,
     "input": [
      "[i.lower().split() for i in issue_list][0]"
     ],
     "language": "python",
     "metadata": {},
     "outputs": [
      {
       "metadata": {},
       "output_type": "pyout",
       "prompt_number": 105,
       "text": [
        "['dns', 'security']"
       ]
      }
     ],
     "prompt_number": 105
    },
    {
     "cell_type": "code",
     "collapsed": false,
     "input": [
      "def build(query):\n",
      "        q = query.split()\n",
      "        rel = [s for s in relationships if s in q]\n",
      "        rel_word = q.index(rel[0])\n",
      "        cat = ''\n",
      "        issue = ''\n",
      "        for typ in type_list:\n",
      "            for word in q[0:q.index(rel[0])]:\n",
      "                if any(word in s for s in typ['synonyms']):\n",
      "                    cat = typ['type']\n",
      "        for iss in issue_list:\n",
      "            for word in q[rel_word+1:]:\n",
      "                if any(word in s for s in iss['synonyms']):\n",
      "                    issue = iss['issue']\n",
      "        return \"MATCH (n)-[r:ADDRESSES]->(m) WHERE n.type=\\\"\"+ cat +\"\\\" AND m.name=\\\"\"+ issue[0] +\"\\\" RETURN DISTINCT r, n\""
     ],
     "language": "python",
     "metadata": {},
     "outputs": [],
     "prompt_number": 111
    },
    {
     "cell_type": "code",
     "collapsed": false,
     "input": [
      "query = \"organizations that deal with ipv6 \"\n",
      "query = build(query)\n",
      "query"
     ],
     "language": "python",
     "metadata": {},
     "outputs": [
      {
       "metadata": {},
       "output_type": "pyout",
       "prompt_number": 113,
       "text": [
        "'MATCH (n)-[r:ADDRESSES]->(m) WHERE n.type=\"Actor\" AND m.name=\"I\" RETURN DISTINCT r, n'"
       ]
      }
     ],
     "prompt_number": 113
    },
    {
     "cell_type": "code",
     "collapsed": false,
     "input": [],
     "language": "python",
     "metadata": {},
     "outputs": []
    }
   ],
   "metadata": {}
  }
 ]
}